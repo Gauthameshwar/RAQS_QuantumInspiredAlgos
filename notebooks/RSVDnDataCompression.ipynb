{
  "nbformat": 4,
  "nbformat_minor": 0,
  "metadata": {
    "colab": {
      "provenance": [],
      "authorship_tag": "ABX9TyO/Acjw7H88thapaqUqe4Mv",
      "include_colab_link": true
    },
    "kernelspec": {
      "name": "python3",
      "display_name": "Python 3"
    },
    "language_info": {
      "name": "python"
    }
  },
  "cells": [
    {
      "cell_type": "markdown",
      "metadata": {
        "id": "view-in-github",
        "colab_type": "text"
      },
      "source": [
        "<a href=\"https://colab.research.google.com/github/Gauthameshwar/RAQS_QuantumInspiredAlgos/blob/master/notebooks/RSVDnDataCompression.ipynb\" target=\"_parent\"><img src=\"https://colab.research.google.com/assets/colab-badge.svg\" alt=\"Open In Colab\"/></a>"
      ]
    },
    {
      "cell_type": "markdown",
      "source": [
        "# Randomized SVD → Tensor Networks for Data Compression\n",
        "\n",
        "**Notebook author:** Gauthameshwar Sundaravadivel\n",
        "\n",
        "---\n",
        "\n",
        "<div style=\"padding:14px 16px; border:1px solid #2d67da; border-left:6px solid #3b82f6; background:#ffffff; border-radius:10px; margin:12px 0;\">\n",
        "  <strong style=\"font-size:1.05rem;\">You’ll learn</strong>\n",
        "  <ul style=\"margin:8px 0 0 18px;\">\n",
        "    <li><b>Randomized SVD (RSVD)</b>: faster than classical SVD, memory-savvy, with power/subspace iterations for better accuracy.</li>\n",
        "    <li><b>Tensor-Train (TT/MPS)</b>: a chain factorization that compresses multiway data efficiently.</li>\n",
        "    <li><b>Case study</b>: compressing gene-expression data into tensor trains.</li>\n",
        "  </ul>\n",
        "</div>\n",
        "\n",
        "---\n",
        "\n",
        "<details>\n",
        "  <summary>📝 Outline (click to expand)</summary>\n",
        "\n",
        "  1. SVD recap → low-rank ≈ compression  \n",
        "  2. RSVD algorithm, complexity & error, power iterations  \n",
        "  3. Tensor networks (MPS/TT) without physics baggage  \n",
        "  4. TT-SVD (Oseledets) and where RSVD slots in  \n",
        "  5. Gene-expression compression mini-project  \n",
        "</details>\n",
        "\n",
        "---\n",
        "\n",
        "**Prerequisites:** Linear algebra, basic Julia."
      ],
      "metadata": {
        "id": "Gi0nIj0rwCRF"
      }
    },
    {
      "cell_type": "code",
      "execution_count": null,
      "metadata": {
        "id": "O5LSPpy4j8M_"
      },
      "outputs": [],
      "source": []
    }
  ]
}